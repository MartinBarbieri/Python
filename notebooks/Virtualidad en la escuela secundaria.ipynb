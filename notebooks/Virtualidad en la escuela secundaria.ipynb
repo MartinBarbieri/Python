{
 "nbformat": 4,
 "nbformat_minor": 0,
 "metadata": {
  "kernelspec": {
   "display_name": "Python 3",
   "language": "python",
   "name": "python3"
  },
  "language_info": {
   "codemirror_mode": {
    "name": "ipython",
    "version": 2
   },
   "file_extension": ".py",
   "mimetype": "text/x-python",
   "name": "python",
   "nbconvert_exporter": "python",
   "pygments_lexer": "ipython2",
   "version": "2.7.6"
  },
  "colab": {
   "name": "17-06.ipynb",
   "provenance": []
  }
 },
 "cells": [
  {
   "cell_type": "markdown",
   "metadata": {
    "collapsed": true,
    "pycharm": {
     "name": "#%% md\n"
    },
    "id": "1j2AsxZ5Pi8L"
   },
   "source": [
    "# **La virtualidad en la escuela secundaria**\n",
    "\n",
    "&nbsp;&nbsp;&nbsp;&nbsp;&nbsp;Debido a la pandemia que arrancó el año pasado, los colegios se vieron obligados\n",
    "a cambiar el método de enseñanza pasando todo a la modalidad virtual. En el caso del IPM, lo hicieron mediante\n",
    "la plataforma \"Teams\".\n",
    "\n",
    "\n",
    "&nbsp;&nbsp;&nbsp;&nbsp;&nbsp;Se invitó a todos los alumnos que completen la siguiente encuesta: https://forms.gle/hX7LPZSpm1rc6RFr6.\n",
    "En ella pueden dar su opinión sobre qué modalidad prefieren, qué medio de transporte utilizan para venir al colegio y si\n",
    "les parece que el entorno elegido por el colegio es el indicado para el desarrollo de las clases virtuales.\n",
    "\n",
    "\n",
    "&nbsp;&nbsp;&nbsp;&nbsp;&nbsp;Esta fue difundida por Whatsapp y Teams alcanzando 218 respuestas. El objetivo de este documento es analizar los resultados obtenidos."
   ]
  },
  {
   "cell_type": "code",
   "metadata": {
    "pycharm": {
     "name": "#%%\n"
    },
    "id": "d-qqy5fPPi8O"
   },
   "source": [
    "import pandas as pd\n",
    "import matplotlib.pyplot as plt1\n",
    "import matplotlib.pyplot as plt2\n",
    "import numpy as np\n",
    "\n",
    "\n",
    "df1 = pd.read_csv(\"../data/VirtualidadEscuelaSecundaria.csv\",sep=\",\",engine=\"python\" )\n",
    "\n"
   ],
   "execution_count": 3,
   "outputs": []
  },
  {
   "cell_type": "markdown",
   "metadata": {
    "id": "Uohu4n2pQUHf"
   },
   "source": [
    "En este primer gráfico de barras veremos qué modalidad prefieren los estudiantes."
   ]
  },
  {
   "cell_type": "code",
   "metadata": {
    "colab": {
     "base_uri": "https://localhost:8080/",
     "height": 295
    },
    "id": "dVrw1ae1QcOF",
    "outputId": "5b682752-97ae-44ca-d9bb-e7778a9d7c23"
   },
   "source": [
    "x_values = df1['¿Cómo preferís aprender en este contexto?'].unique()\n",
    "y_values = df1['¿Cómo preferís aprender en este contexto?'].value_counts().tolist()\n",
    "y_values.reverse()\n",
    "x_values= np.flip(x_values)\n",
    "# gráfico modalidad elegida\n",
    "plt1.bar(x_values,y_values)\n",
    "plt1.title('Modalidad preferida')\n",
    "plt1.xlabel('Modalidad')\n",
    "plt1.ylabel('Cantidad')\n",
    "plt1.show()"
   ],
   "execution_count": 4,
   "outputs": [
    {
     "output_type": "display_data",
     "data": {
      "image/png": "[encoded data removed]",
      "text/plain": [
       "<Figure size 432x288 with 1 Axes>"
      ]
     },
     "metadata": {
      "tags": [],
      "needs_background": "light"
     }
    }
   ]
  },
  {
   "cell_type": "markdown",
   "metadata": {
    "id": "UA0maReWQg75"
   },
   "source": [
    "A continuación se ve qué medio de transporte utilizan los adolescentes para dirigirse a la institución."
   ]
  },
  {
   "cell_type": "code",
   "metadata": {
    "pycharm": {
     "name": "#%%\n"
    },
    "colab": {
     "base_uri": "https://localhost:8080/",
     "height": 296
    },
    "id": "0_uSZWo5Pi8Q",
    "outputId": "9c62499f-5020-440e-bfc7-9b755c194bcd"
   },
   "source": [
    "x_values = df1['¿Cómo llegas al colegio?'].unique()\n",
    "y_values = df1['¿Cómo llegas al colegio?'].value_counts().tolist()\n",
    "y_values.reverse()\n",
    "x_values= np.flip(x_values)\n",
    "# gráfico medios de transporte\n",
    "plt1.bar(x_values,y_values)\n",
    "plt1.title('Llegada al colegio')\n",
    "plt1.xlabel('Medios de transporte')\n",
    "plt1.ylabel('Cantidad')\n",
    "\n",
    "plt1.show()"
   ],
   "execution_count": 2,
   "outputs": [
    {
     "output_type": "display_data",
     "data": {
      "image/png": "[encoded data removed]",
      "text/plain": [
       "<Figure size 432x288 with 1 Axes>"
      ]
     },
     "metadata": {
      "tags": [],
      "needs_background": "light"
     }
    }
   ]
  },
  {
   "cell_type": "markdown",
   "metadata": {
    "collapsed": false,
    "id": "ww68OzihPi8R"
   },
   "source": [
    "### **Conclusiones**\n",
    "\n",
    "&nbsp;&nbsp;&nbsp;&nbsp;&nbsp; Aunque el 94% de los votantes dijo que Teams era la plataforma indicada para realizar\n",
    "las clases virtuales, se puede ver en el primer gráfico como ampliamente los alumnos prefieren las clases presenciales.\n",
    "Esto puede deberse a que hoy en día el mayor factor de contagio es en el transporte público y la mayoría de los alumnos\n",
    "no lo utilizan para dirigirse a la institución. Sin esta preocupación, los estudiantes ven en el formato presencial muchas\n",
    "mas ventajes para aprender mejor como lo pueden ser:\n",
    "<ul>\n",
    "<li>La interacción entre el profesor y alumno</li>\n",
    "<li>Las relaciones con los compañeros</li>\n",
    "<li>Poder preguntar dudas</li>\n",
    "<li>Prestar mayor atención a los temas vistos</li>\n",
    "</ul>\n",
    "\n",
    "\n",
    "\n"
   ]
  }
 ]
}